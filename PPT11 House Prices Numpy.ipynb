{
  "nbformat": 4,
  "nbformat_minor": 0,
  "metadata": {
    "colab": {
      "name": "Copia de Presentacion_11_alumnos.ipynb",
      "provenance": [],
      "collapsed_sections": [],
      "include_colab_link": true
    },
    "kernelspec": {
      "name": "python3",
      "display_name": "Python 3"
    }
  },
  "cells": [
    {
      "cell_type": "markdown",
      "metadata": {
        "id": "view-in-github",
        "colab_type": "text"
      },
      "source": [
        "<a href=\"https://colab.research.google.com/github/ernestcr/DataSciencePython/blob/master/PPT11%20House%20Prices%20Numpy.ipynb\" target=\"_parent\"><img src=\"https://colab.research.google.com/assets/colab-badge.svg\" alt=\"Open In Colab\"/></a>"
      ]
    },
    {
      "cell_type": "markdown",
      "metadata": {
        "id": "SnbKAswA5H70",
        "colab_type": "text"
      },
      "source": [
        " ![texto alternativo](https://drive.google.com/uc?export=view&id=14HGkNoRD0Cp4Z0KyPxvrLaj_u3eG97hC)"
      ]
    },
    {
      "cell_type": "markdown",
      "metadata": {
        "id": "AFXXyEkA5TO3",
        "colab_type": "text"
      },
      "source": [
        " <img src=\"https://drive.google.com/uc?export=view&id=1dpWC3HxKCInKLhkhLPOyYYyV4b0E_sms\" alt=\"Simply Easy Learning\" width=\"800\" \n",
        "         height=\"450\">\n"
      ]
    },
    {
      "cell_type": "markdown",
      "metadata": {
        "id": "VdFUEVlOXN6J",
        "colab_type": "text"
      },
      "source": [
        "# **Recordando**"
      ]
    },
    {
      "cell_type": "markdown",
      "metadata": {
        "id": "7gE6I95qDIgA",
        "colab_type": "text"
      },
      "source": [
        " <img src=\"https://drive.google.com/uc?export=view&id=17iqwupvy5Nq2PO59Loj0gaU-e6IUYKSS\" alt=\"Simply Easy Learning\" width=\"800\" \n",
        "         height=\"450\">\n"
      ]
    },
    {
      "cell_type": "markdown",
      "metadata": {
        "id": "30ClEV3k6oOS",
        "colab_type": "text"
      },
      "source": [
        " <img src=\"https://drive.google.com/uc?export=view&id=12OkMjp-HFxBUrp4CxC4i6GjWuAreunKN\" alt=\"Simply Easy Learning\" width=\"800\" \n",
        "         height=\"450\">"
      ]
    },
    {
      "cell_type": "markdown",
      "metadata": {
        "id": "xbJS8J0jJiIR",
        "colab_type": "text"
      },
      "source": [
        " <img src=\"https://intellipaat.com/mediaFiles/2018/12/Python-NumPy-Cheat-Sheet-1.png\" alt=\"Simply Easy Learning\" width=\"850\" \n",
        "         height=\"500\">"
      ]
    },
    {
      "cell_type": "markdown",
      "metadata": {
        "id": "bedLAzr7Kctc",
        "colab_type": "text"
      },
      "source": [
        "# **Ejemplo Práctico 1**"
      ]
    },
    {
      "cell_type": "markdown",
      "metadata": {
        "id": "_FOFEpBBLUhX",
        "colab_type": "text"
      },
      "source": [
        "* Implementaremos el método de regresion lineal simple utilizando NumpPy. Recordemos:\n",
        "\n",
        "<img src=\"https://drive.google.com/uc?export=view&id=1YTC-Fz1FYb2Q7dRWdTFXjA_BWPgfJmtR\" alt=\"Simply Easy Learning\" width=\"500\" \n",
        "         height=\"200\">\n",
        "\n",
        "* Esta formulación la podiamos expresar de esta forma:\n",
        "\n",
        "<img src=\"https://drive.google.com/uc?export=view&id=16BQtn-NZA-icSvwSdJSBqp_Qd7n5affs\" alt=\"Simply Easy Learning\" width=\"700\" \n",
        "         height=\"200\">"
      ]
    },
    {
      "cell_type": "markdown",
      "metadata": {
        "id": "m2JnBnpRggR-",
        "colab_type": "text"
      },
      "source": [
        "Formula: Minimizar el error cuadratico Medio (MSE): $W = (X^{T}X)^{-1}X^TY$"
      ]
    },
    {
      "cell_type": "code",
      "metadata": {
        "id": "WMZKGIE9gNtg",
        "colab_type": "code",
        "colab": {}
      },
      "source": [
        "# Sirve para calculo numerico, proporciona funcionalidades para trabajar con arrays, matrices y operaciones matriciales\n",
        "import numpy as np     \n",
        "# lo mismo que hace numpy lo extiende a herramientas cientificas, lo expande. Proporciona otras funcionalidades como tratamiento de imagenes\n",
        "import scipy as sc      \n",
        "# Liberia de visualizacion grafica (SIN EMBARGO, existen otras)\n",
        "import matplotlib.pyplot as plt \n"
      ],
      "execution_count": null,
      "outputs": []
    },
    {
      "cell_type": "code",
      "metadata": {
        "id": "-2BAksYJga83",
        "colab_type": "code",
        "colab": {}
      },
      "source": [
        ""
      ],
      "execution_count": null,
      "outputs": []
    },
    {
      "cell_type": "code",
      "metadata": {
        "id": "Z2Srf3paPTa_",
        "colab_type": "code",
        "colab": {
          "base_uri": "https://localhost:8080/",
          "height": 125
        },
        "outputId": "9785ddfc-236d-456b-a140-f459caefdae4"
      },
      "source": [
        "from google.colab import drive\n",
        "drive.mount('/content/drive')"
      ],
      "execution_count": null,
      "outputs": [
        {
          "output_type": "stream",
          "text": [
            "Go to this URL in a browser: https://accounts.google.com/o/oauth2/auth?client_id=947318989803-6bn6qk8qdgf4n4g3pfee6491hc0brc4i.apps.googleusercontent.com&redirect_uri=urn%3aietf%3awg%3aoauth%3a2.0%3aoob&scope=email%20https%3a%2f%2fwww.googleapis.com%2fauth%2fdocs.test%20https%3a%2f%2fwww.googleapis.com%2fauth%2fdrive%20https%3a%2f%2fwww.googleapis.com%2fauth%2fdrive.photos.readonly%20https%3a%2f%2fwww.googleapis.com%2fauth%2fpeopleapi.readonly&response_type=code\n",
            "\n",
            "Enter your authorization code:\n",
            "··········\n",
            "Mounted at /content/drive\n"
          ],
          "name": "stdout"
        }
      ]
    },
    {
      "cell_type": "markdown",
      "metadata": {
        "id": "1MW7rK78t03N",
        "colab_type": "text"
      },
      "source": [
        "* Ahora mejoremos la solucion para resolver con todas los atributos de la base de datos"
      ]
    },
    {
      "cell_type": "code",
      "metadata": {
        "id": "PFLJrSImnKRo",
        "colab_type": "code",
        "colab": {}
      },
      "source": [
        "\n"
      ],
      "execution_count": null,
      "outputs": []
    },
    {
      "cell_type": "markdown",
      "metadata": {
        "id": "sEE_tMhmuFj0",
        "colab_type": "text"
      },
      "source": [
        "* Para medir el error de nuestro Modelo, utilizamos el Error cuadratico médio: \n",
        "\n",
        " $rmse = \\sqrt{(\\frac{1}{n})\\sum_{i=1}^{n}(y_{i} - p_{i})^{2}}$\n",
        "\n",
        "<img src=\"https://iartificial.net/wp-content/uploads/2018/12/error-regresion-lineal2.png\" alt=\"Simply Easy Learning\" width=\"300\" \n",
        "         height=\"200\">\n",
        "\n"
      ]
    },
    {
      "cell_type": "code",
      "metadata": {
        "id": "dFMGCp_6utd1",
        "colab_type": "code",
        "colab": {}
      },
      "source": [
        ""
      ],
      "execution_count": null,
      "outputs": []
    },
    {
      "cell_type": "code",
      "metadata": {
        "id": "Pwg71i0puwpO",
        "colab_type": "code",
        "colab": {}
      },
      "source": [
        ""
      ],
      "execution_count": null,
      "outputs": []
    },
    {
      "cell_type": "markdown",
      "metadata": {
        "id": "GS05EA58Rdph",
        "colab_type": "text"
      },
      "source": [
        "# **Ejemplo Práctico 2**"
      ]
    },
    {
      "cell_type": "markdown",
      "metadata": {
        "id": "fpUgpOQiRdcH",
        "colab_type": "text"
      },
      "source": [
        "**El descenso del Gradiente**\n",
        "\n",
        "El ejemplo de regresion lineal nos dio un resultado factible calculando el valor de los pesos con error mínimo de forma ditecta, pero, en la práctica su uso es inviable debido al alto costo de calcular una matriz inversa cuando tenemos demasiado atributos por muestra.\n",
        "\n",
        "Pero siempre existe una solucion!!\n",
        "\n",
        "Exploremos el descenso del gradiente:\n",
        "\n",
        " <img src=\"https://miro.medium.com/max/694/1*7030GXGlVD-u9VyqVJdTyw.png\" alt=\"Simply Easy Learning\" width=\"500\" height=\"250\">\n",
        "\n",
        "Veamos mejor este ejemplo de una forma animada:\n",
        "[An Interactive Tutorial on Numerical Optimization](http://www.benfrederickson.com/numerical-optimization/)\n",
        "\n",
        "\n",
        " <img src=\"https://developers.google.com/machine-learning/crash-course/images/GradientDescentNegativeGradient.svg?hl=es-419\" alt=\"Simply Easy Learning\" width=\"400\">\n",
        "\n",
        "\n",
        "  <img src=\"https://developers.google.com/machine-learning/glossary/images/nonconvex_function.svg?hl=es\" alt=\"Simply Easy Learning\" width=\"280\">\n",
        "\n",
        "\n"
      ]
    },
    {
      "cell_type": "markdown",
      "metadata": {
        "id": "FljnyMraDScU",
        "colab_type": "text"
      },
      "source": [
        "* Ahora vamos a programarlo"
      ]
    },
    {
      "cell_type": "code",
      "metadata": {
        "id": "YDhbZB60Srax",
        "colab_type": "code",
        "colab": {}
      },
      "source": [
        "import numpy as np     \n",
        "import scipy as sc      \n",
        "import matplotlib.pyplot as plt"
      ],
      "execution_count": null,
      "outputs": []
    },
    {
      "cell_type": "code",
      "metadata": {
        "id": "nRTJAib6S1pM",
        "colab_type": "code",
        "colab": {}
      },
      "source": [
        ""
      ],
      "execution_count": null,
      "outputs": []
    },
    {
      "cell_type": "markdown",
      "metadata": {
        "id": "DlOUjDXlWoeS",
        "colab_type": "text"
      },
      "source": [
        "* Ahora generemos un punto aleatorio en nuestro mapa y comencemos a descender"
      ]
    },
    {
      "cell_type": "code",
      "metadata": {
        "id": "lZengMsnWi0M",
        "colab_type": "code",
        "colab": {}
      },
      "source": [
        ""
      ],
      "execution_count": null,
      "outputs": []
    },
    {
      "cell_type": "markdown",
      "metadata": {
        "id": "xIoApqs_XSOw",
        "colab_type": "text"
      },
      "source": [
        "* Perfecto, vamos ahora descender hasta una posición minima"
      ]
    },
    {
      "cell_type": "code",
      "metadata": {
        "id": "6urRRhIXXN3i",
        "colab_type": "code",
        "colab": {}
      },
      "source": [
        ""
      ],
      "execution_count": null,
      "outputs": []
    },
    {
      "cell_type": "code",
      "metadata": {
        "id": "rZNpT2jkexga",
        "colab_type": "code",
        "colab": {}
      },
      "source": [
        ""
      ],
      "execution_count": null,
      "outputs": []
    }
  ]
}